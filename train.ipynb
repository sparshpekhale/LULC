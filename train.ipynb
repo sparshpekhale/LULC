{
 "cells": [
  {
   "cell_type": "code",
   "execution_count": 47,
   "metadata": {},
   "outputs": [],
   "source": [
    "import numpy as np\n",
    "import torch\n",
    "from torch import nn\n",
    "import torch.nn.functional as F\n",
    "from torch.utils.data import DataLoader\n",
    "import torchvision\n",
    "import seaborn as sns\n",
    "\n",
    "from glob import glob\n",
    "import os\n",
    "\n",
    "from dataset import HLS_US\n",
    "from model import MACUNet_model"
   ]
  },
  {
   "cell_type": "code",
   "execution_count": 13,
   "metadata": {},
   "outputs": [],
   "source": [
    "file_list = [os.path.basename(f)[:-11] for f in glob('./data/hls/*')]"
   ]
  },
  {
   "cell_type": "code",
   "execution_count": 14,
   "metadata": {},
   "outputs": [],
   "source": [
    "dataset = HLS_US('./data/', file_list, num_classes=13)\n",
    "dataloader = DataLoader(dataset, batch_size=2)\n",
    "\n",
    "model = MACUNet_model(6, 13)"
   ]
  },
  {
   "cell_type": "code",
   "execution_count": 79,
   "metadata": {},
   "outputs": [
    {
     "data": {
      "text/plain": [
       "(torch.Size([2, 6, 224, 224]),\n",
       " torch.Size([2, 224, 224]),\n",
       " torch.Size([2, 13, 224, 224]))"
      ]
     },
     "execution_count": 79,
     "metadata": {},
     "output_type": "execute_result"
    }
   ],
   "source": [
    "for x, y in dataloader:\n",
    "    logits = model.forward(x)\n",
    "    pred = logits.argmax(dim=1)\n",
    "\n",
    "x.shape, y.shape, logits.shape"
   ]
  },
  {
   "cell_type": "code",
   "execution_count": 82,
   "metadata": {},
   "outputs": [],
   "source": [
    "def calculate_metrics(y_true, y_pred, num_classes):\n",
    "    # Flatten both true and predicted labels\n",
    "    y_true_flat = y_true.view(-1)\n",
    "    y_pred_flat = y_pred.view(-1)\n",
    "    \n",
    "    # Initialize variables to store metrics\n",
    "    accuracy = torch.zeros(num_classes)\n",
    "    recall = torch.zeros(num_classes)\n",
    "    precision = torch.zeros(num_classes)\n",
    "    iou = torch.zeros(num_classes)\n",
    "\n",
    "    for cls in range(num_classes):\n",
    "        # True positives\n",
    "        TP = torch.sum((y_true_flat == cls) & (y_pred_flat == cls)).item()\n",
    "        \n",
    "        # False positives\n",
    "        FP = torch.sum((y_true_flat != cls) & (y_pred_flat == cls)).item()\n",
    "        \n",
    "        # False negatives\n",
    "        FN = torch.sum((y_true_flat == cls) & (y_pred_flat != cls)).item()\n",
    "        \n",
    "        # Intersection\n",
    "        intersection = torch.sum((y_true_flat == cls) & (y_pred_flat == cls)).item()\n",
    "        \n",
    "        # Union\n",
    "        union = TP + FP + FN\n",
    "        \n",
    "        # Calculate metrics\n",
    "        if union != 0:\n",
    "            accuracy[cls] = intersection / union\n",
    "            recall[cls] = TP / (TP + FN) if (TP + FN) != 0 else 0\n",
    "            precision[cls] = TP / (TP + FP)\n",
    "            iou[cls] = intersection / (union - intersection)\n",
    "\n",
    "    # Overall metrics\n",
    "    overall_accuracy = torch.mean(accuracy)\n",
    "    overall_recall = torch.mean(recall)\n",
    "    overall_precision = torch.mean(precision)\n",
    "    overall_iou = torch.mean(iou)\n",
    "\n",
    "    return overall_accuracy, overall_recall, overall_precision, overall_iou, accuracy, recall, precision, iou"
   ]
  },
  {
   "cell_type": "code",
   "execution_count": 84,
   "metadata": {},
   "outputs": [
    {
     "data": {
      "text/plain": [
       "(tensor(0.0091),\n",
       " tensor(0.0516),\n",
       " tensor(0.0562),\n",
       " tensor(0.0095),\n",
       " tensor([1.5254e-03, 2.6914e-02, 4.5212e-03, 0.0000e+00, 2.0208e-02, 8.5566e-03,\n",
       "         2.0667e-03, 9.3729e-04, 1.3182e-03, 9.3484e-05, 0.0000e+00, 0.0000e+00,\n",
       "         5.2586e-02]),\n",
       " tensor([0.0015, 0.0316, 0.0382, 0.0000, 0.0264, 0.0093, 0.0220, 0.2222, 0.2437,\n",
       "         0.0137, 0.0000, 0.0000, 0.0615]),\n",
       " tensor([1.2469e-01, 1.5338e-01, 5.1020e-03, 0.0000e+00, 7.9475e-02, 9.7561e-02,\n",
       "         2.2756e-03, 9.4038e-04, 1.3237e-03, 9.4118e-05, 0.0000e+00, 0.0000e+00,\n",
       "         2.6553e-01]),\n",
       " tensor([1.5278e-03, 2.7658e-02, 4.5418e-03, 0.0000e+00, 2.0625e-02, 8.6304e-03,\n",
       "         2.0710e-03, 9.3817e-04, 1.3200e-03, 9.3493e-05, 0.0000e+00, 0.0000e+00,\n",
       "         5.5504e-02]))"
      ]
     },
     "execution_count": 84,
     "metadata": {},
     "output_type": "execute_result"
    }
   ],
   "source": [
    "overall_accuracy, overall_recall, overall_precision, overall_iou, accuracy, recall, precision, iou = calculate_metrics(y, pred, 13)\n",
    "overall_accuracy, overall_recall, overall_precision, overall_iou, accuracy, recall, precision, iou"
   ]
  },
  {
   "cell_type": "code",
   "execution_count": 89,
   "metadata": {},
   "outputs": [
    {
     "data": {
      "text/plain": [
       "tensor(0.0197)"
      ]
     },
     "execution_count": 89,
     "metadata": {},
     "output_type": "execute_result"
    }
   ],
   "source": [
    "import torchmetrics\n",
    "\n",
    "accuracy = torchmetrics.Accuracy(task='multiclass', num_classes=13)\n",
    "accuracy(pred, y)"
   ]
  },
  {
   "cell_type": "code",
   "execution_count": 95,
   "metadata": {},
   "outputs": [
    {
     "data": {
      "text/plain": [
       "tensor(0.0091)"
      ]
     },
     "execution_count": 95,
     "metadata": {},
     "output_type": "execute_result"
    }
   ],
   "source": [
    "iou = torchmetrics.JaccardIndex(task='multiclass', num_classes=13)\n",
    "iou(pred, y)"
   ]
  },
  {
   "cell_type": "code",
   "execution_count": 101,
   "metadata": {},
   "outputs": [
    {
     "data": {
      "text/plain": [
       "tensor(0.)"
      ]
     },
     "execution_count": 101,
     "metadata": {},
     "output_type": "execute_result"
    }
   ],
   "source": [
    "torch.tensor(0).float()"
   ]
  }
 ],
 "metadata": {
  "kernelspec": {
   "display_name": "satsure",
   "language": "python",
   "name": "python3"
  },
  "language_info": {
   "codemirror_mode": {
    "name": "ipython",
    "version": 3
   },
   "file_extension": ".py",
   "mimetype": "text/x-python",
   "name": "python",
   "nbconvert_exporter": "python",
   "pygments_lexer": "ipython3",
   "version": "3.10.13"
  }
 },
 "nbformat": 4,
 "nbformat_minor": 2
}
